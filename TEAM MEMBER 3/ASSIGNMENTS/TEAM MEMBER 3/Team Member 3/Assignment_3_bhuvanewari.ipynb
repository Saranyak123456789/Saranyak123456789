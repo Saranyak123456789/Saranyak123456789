{
  "cells": [
    {
      "cell_type": "code",
      "execution_count": null,
      "id": "91674a07",
      "metadata": {
        "id": "91674a07"
      },
      "outputs": [],
      "source": [
        "import tensorflow as tf\n",
        "from tensorflow import keras\n",
        "import matplotlib.pyplot as plt\n",
        "import numpy as np\n",
        "from os import listdir\n",
        "from os.path import join\n",
        "import pandas\n",
        "import cv2\n",
        "import os\n",
        "import random"
      ]
    },
    {
      "cell_type": "code",
      "execution_count": null,
      "id": "813dc371",
      "metadata": {
        "id": "813dc371",
        "outputId": "447bbbd0-8852-4283-951c-9cf52a64ff2e"
      },
      "outputs": [
        {
          "name": "stdout",
          "output_type": "stream",
          "text": [
            "['daisy', 'dandelion', 'rose', 'sunflower', 'tulip']\n"
          ]
        }
      ],
      "source": [
        "data_mem3 = 'G:/IBM/Assignment/Flowers-Dataset/flowers'\n",
        "folders_mem3 = os.listdir(data_mem3)\n",
        "\n",
        "print(folders_mem3)"
      ]
    },
    {
      "cell_type": "code",
      "execution_count": null,
      "id": "9f45d6f5",
      "metadata": {
        "id": "9f45d6f5"
      },
      "outputs": [],
      "source": [
        "image_names = []\n",
        "train_labels = []\n",
        "train_images = []\n",
        "\n",
        "size = 64,64\n",
        "\n",
        "for folder in folders_mem3:\n",
        "    for file in os.listdir(os.path.join(data_mem3,folder)):\n",
        "        if file.endswith(\"jpg\"):\n",
        "            image_names.append(os.path.join(data_mem3,folder,file))\n",
        "            train_labels.append(folder)\n",
        "            img = cv2.imread(os.path.join(data_mem3,folder,file))\n",
        "            im = cv2.resize(img,size)\n",
        "            train_images.append(im)\n",
        "        else:\n",
        "            continue"
      ]
    },
    {
      "cell_type": "code",
      "execution_count": null,
      "id": "43d3f09c",
      "metadata": {
        "id": "43d3f09c",
        "outputId": "a39e579d-fc07-41db-cbbb-2b8f90d1871f"
      },
      "outputs": [
        {
          "data": {
            "text/plain": [
              "(4317, 64, 64, 3)"
            ]
          },
          "execution_count": 5,
          "metadata": {},
          "output_type": "execute_result"
        }
      ],
      "source": [
        "train = np.array(train_images)\n",
        "\n",
        "train.shape"
      ]
    },
    {
      "cell_type": "code",
      "execution_count": null,
      "id": "33469615",
      "metadata": {
        "id": "33469615"
      },
      "outputs": [],
      "source": [
        "train = train.astype('float32') / 255.0"
      ]
    },
    {
      "cell_type": "code",
      "execution_count": null,
      "id": "25df3b94",
      "metadata": {
        "id": "25df3b94"
      },
      "outputs": [],
      "source": [
        "label_dummies = pandas.get_dummies(train_labels)\n",
        "\n",
        "labels =  label_dummies.values.argmax(1)"
      ]
    },
    {
      "cell_type": "code",
      "execution_count": null,
      "id": "d2aa5b25",
      "metadata": {
        "id": "d2aa5b25",
        "outputId": "e9a1fb06-8017-4dcf-80cc-bcc98a2078b9"
      },
      "outputs": [
        {
          "data": {
            "text/plain": [
              "array(['daisy', 'dandelion', 'rose', 'sunflower', 'tulip'], dtype=object)"
            ]
          },
          "execution_count": 8,
          "metadata": {},
          "output_type": "execute_result"
        }
      ],
      "source": [
        "pandas.unique(train_labels)"
      ]
    },
    {
      "cell_type": "code",
      "execution_count": null,
      "id": "38209f03",
      "metadata": {
        "id": "38209f03"
      },
      "outputs": [],
      "source": [
        "\n",
        "union_list = list(zip(train, labels))\n",
        "random.shuffle(union_list)\n",
        "train,labels = zip(*union_list)\n",
        "\n",
        "# Convert the shuffled list to numpy array type\n",
        "\n",
        "train = np.array(train)\n",
        "labels = np.array(labels)"
      ]
    },
    {
      "cell_type": "code",
      "execution_count": null,
      "id": "02b6ce47",
      "metadata": {
        "id": "02b6ce47"
      },
      "outputs": [],
      "source": [
        "model = keras.Sequential([\n",
        "    keras.layers.Flatten(input_shape=(64,64,3)),\n",
        "    keras.layers.Dense(256, activation=tf.nn.relu),\n",
        "    keras.layers.Dense(128, activation=tf.nn.relu),\n",
        "    keras.layers.Dense(7, activation=tf.nn.softmax)\n",
        "])"
      ]
    },
    {
      "cell_type": "code",
      "execution_count": null,
      "id": "a3af5a43",
      "metadata": {
        "id": "a3af5a43",
        "outputId": "187bf43b-be0e-4b5c-d99b-40188ed52a22"
      },
      "outputs": [
        {
          "name": "stdout",
          "output_type": "stream",
          "text": [
            "Model: \"sequential\"\n",
            "_________________________________________________________________\n",
            " Layer (type)                Output Shape              Param #   \n",
            "=================================================================\n",
            " flatten (Flatten)           (None, 12288)             0         \n",
            "                                                                 \n",
            " dense (Dense)               (None, 256)               3145984   \n",
            "                                                                 \n",
            " dense_1 (Dense)             (None, 128)               32896     \n",
            "                                                                 \n",
            " dense_2 (Dense)             (None, 7)                 903       \n",
            "                                                                 \n",
            "=================================================================\n",
            "Total params: 3,179,783\n",
            "Trainable params: 3,179,783\n",
            "Non-trainable params: 0\n",
            "_________________________________________________________________\n"
          ]
        }
      ],
      "source": [
        "model.summary()"
      ]
    },
    {
      "cell_type": "code",
      "execution_count": null,
      "id": "7cf4d060",
      "metadata": {
        "id": "7cf4d060"
      },
      "outputs": [],
      "source": [
        "model.compile(optimizer= tf.optimizers.Adam(), \n",
        "              loss='sparse_categorical_crossentropy',\n",
        "              metrics=['accuracy'])"
      ]
    },
    {
      "cell_type": "code",
      "execution_count": null,
      "id": "21239af4",
      "metadata": {
        "id": "21239af4",
        "outputId": "1e9b3cc3-f04f-46fb-cb25-94d35f8610cf"
      },
      "outputs": [
        {
          "name": "stdout",
          "output_type": "stream",
          "text": [
            "Epoch 1/13\n",
            "135/135 [==============================] - 5s 28ms/step - loss: 1.7516 - accuracy: 0.3618\n",
            "Epoch 2/13\n",
            "135/135 [==============================] - 4s 29ms/step - loss: 1.3268 - accuracy: 0.4404\n",
            "Epoch 3/13\n",
            "135/135 [==============================] - 4s 27ms/step - loss: 1.2536 - accuracy: 0.4732\n",
            "Epoch 4/13\n",
            "135/135 [==============================] - 4s 27ms/step - loss: 1.2004 - accuracy: 0.4973\n",
            "Epoch 5/13\n",
            "135/135 [==============================] - 4s 28ms/step - loss: 1.1515 - accuracy: 0.5251\n",
            "Epoch 6/13\n",
            "135/135 [==============================] - 4s 29ms/step - loss: 1.1067 - accuracy: 0.5506\n",
            "Epoch 7/13\n",
            "135/135 [==============================] - 4s 28ms/step - loss: 1.0709 - accuracy: 0.5555\n",
            "Epoch 8/13\n",
            "135/135 [==============================] - 4s 27ms/step - loss: 1.0169 - accuracy: 0.5944\n",
            "Epoch 9/13\n",
            "135/135 [==============================] - 4s 29ms/step - loss: 1.0180 - accuracy: 0.5826\n",
            "Epoch 10/13\n",
            "135/135 [==============================] - 4s 27ms/step - loss: 0.9758 - accuracy: 0.6062\n",
            "Epoch 11/13\n",
            "135/135 [==============================] - 4s 27ms/step - loss: 0.9343 - accuracy: 0.6328\n",
            "Epoch 12/13\n",
            "135/135 [==============================] - 4s 29ms/step - loss: 0.8783 - accuracy: 0.6477\n",
            "Epoch 13/13\n",
            "135/135 [==============================] - 4s 28ms/step - loss: 0.8623 - accuracy: 0.6641\n"
          ]
        },
        {
          "data": {
            "text/plain": [
              "<keras.callbacks.History at 0x168873e7d00>"
            ]
          },
          "execution_count": 13,
          "metadata": {},
          "output_type": "execute_result"
        }
      ],
      "source": [
        "model.fit(train,labels, epochs=13)"
      ]
    },
    {
      "cell_type": "code",
      "execution_count": null,
      "id": "c72b44e5",
      "metadata": {
        "id": "c72b44e5"
      },
      "outputs": [],
      "source": [
        "model.save(\"G:/IBM/Assignment/Flowers-Dataset/flowers/flowers_yaswanth.h5\")"
      ]
    },
    {
      "cell_type": "code",
      "execution_count": null,
      "id": "3f2f2a8b",
      "metadata": {
        "id": "3f2f2a8b"
      },
      "outputs": [],
      "source": []
    }
  ],
  "metadata": {
    "kernelspec": {
      "display_name": "Python 3 (ipykernel)",
      "language": "python",
      "name": "python3"
    },
    "language_info": {
      "codemirror_mode": {
        "name": "ipython",
        "version": 3
      },
      "file_extension": ".py",
      "mimetype": "text/x-python",
      "name": "python",
      "nbconvert_exporter": "python",
      "pygments_lexer": "ipython3",
      "version": "3.9.12"
    },
    "colab": {
      "provenance": [],
      "collapsed_sections": []
    }
  },
  "nbformat": 4,
  "nbformat_minor": 5
}