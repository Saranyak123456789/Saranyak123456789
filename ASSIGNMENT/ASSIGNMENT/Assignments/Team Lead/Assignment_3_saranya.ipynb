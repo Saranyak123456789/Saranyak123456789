{
 "cells": [
  {
   "cell_type": "code",
   "execution_count": 1,
   "id": "91674a07",
   "metadata": {},
   "outputs": [],
   "source": [
    "import tensorflow as tf\n",
    "from tensorflow import keras\n",
    "import matplotlib.pyplot as plt\n",
    "import numpy as np\n",
    "from os import listdir\n",
    "from os.path import join\n",
    "import pandas\n",
    "import cv2\n",
    "import os\n",
    "import random"
   ]
  },
  {
   "cell_type": "code",
   "execution_count": 6,
   "id": "813dc371",
   "metadata": {},
   "outputs": [
    {
     "name": "stdout",
     "output_type": "stream",
     "text": [
      "['daisy', 'dandelion', 'rose', 'sunflower', 'tulip']\n"
     ]
    }
   ],
   "source": [
    "data_lead = 'D:/IBM Project/Flowers-Dataset/flowers'\n",
    "folders_lead = os.listdir(data_lead)\n",
    "\n",
    "print(folders_lead)"
   ]
  },
  {
   "cell_type": "code",
   "execution_count": 10,
   "id": "9f45d6f5",
   "metadata": {},
   "outputs": [],
   "source": [
    "image_names = []\n",
    "train_labels = []\n",
    "train_images = []\n",
    "\n",
    "size = 64,64\n",
    "\n",
    "for folder in folders_lead:\n",
    "    for file in os.listdir(os.path.join(data_lead,folder)):\n",
    "        if file.endswith(\"jpg\"):\n",
    "            image_names.append(os.path.join(data_lead,folder,file))\n",
    "            train_labels.append(folder)\n",
    "            img = cv2.imread(os.path.join(data_lead,folder,file))\n",
    "            im = cv2.resize(img,size)\n",
    "            train_images.append(im)\n",
    "        else:\n",
    "            continue"
   ]
  },
  {
   "cell_type": "code",
   "execution_count": 11,
   "id": "43d3f09c",
   "metadata": {},
   "outputs": [
    {
     "data": {
      "text/plain": [
       "(4317, 64, 64, 3)"
      ]
     },
     "execution_count": 11,
     "metadata": {},
     "output_type": "execute_result"
    }
   ],
   "source": [
    "train = np.array(train_images)\n",
    "\n",
    "train.shape"
   ]
  },
  {
   "cell_type": "code",
   "execution_count": 12,
   "id": "33469615",
   "metadata": {},
   "outputs": [],
   "source": [
    "train = train.astype('float32') / 255.0"
   ]
  },
  {
   "cell_type": "code",
   "execution_count": 13,
   "id": "25df3b94",
   "metadata": {},
   "outputs": [],
   "source": [
    "label_dummies = pandas.get_dummies(train_labels)\n",
    "\n",
    "labels =  label_dummies.values.argmax(1)"
   ]
  },
  {
   "cell_type": "code",
   "execution_count": 14,
   "id": "d2aa5b25",
   "metadata": {},
   "outputs": [
    {
     "data": {
      "text/plain": [
       "array(['daisy', 'dandelion', 'rose', 'sunflower', 'tulip'], dtype=object)"
      ]
     },
     "execution_count": 14,
     "metadata": {},
     "output_type": "execute_result"
    }
   ],
   "source": [
    "pandas.unique(train_labels)"
   ]
  },
  {
   "cell_type": "code",
   "execution_count": 15,
   "id": "38209f03",
   "metadata": {},
   "outputs": [],
   "source": [
    "\n",
    "union_list = list(zip(train, labels))\n",
    "random.shuffle(union_list)\n",
    "train,labels = zip(*union_list)\n",
    "\n",
    "# Convert the shuffled list to numpy array type\n",
    "\n",
    "train = np.array(train)\n",
    "labels = np.array(labels)"
   ]
  },
  {
   "cell_type": "code",
   "execution_count": 17,
   "id": "02b6ce47",
   "metadata": {},
   "outputs": [],
   "source": [
    "model = keras.Sequential([\n",
    "    keras.layers.Flatten(input_shape=(64,64,3)),\n",
    "    keras.layers.Dense(256, activation=tf.nn.relu),\n",
    "    keras.layers.Dense(128, activation=tf.nn.relu),\n",
    "    keras.layers.Dense(6, activation=tf.nn.softmax)\n",
    "])"
   ]
  },
  {
   "cell_type": "code",
   "execution_count": 18,
   "id": "a3af5a43",
   "metadata": {},
   "outputs": [
    {
     "name": "stdout",
     "output_type": "stream",
     "text": [
      "Model: \"sequential_1\"\n",
      "_________________________________________________________________\n",
      " Layer (type)                Output Shape              Param #   \n",
      "=================================================================\n",
      " flatten_1 (Flatten)         (None, 12288)             0         \n",
      "                                                                 \n",
      " dense_3 (Dense)             (None, 256)               3145984   \n",
      "                                                                 \n",
      " dense_4 (Dense)             (None, 128)               32896     \n",
      "                                                                 \n",
      " dense_5 (Dense)             (None, 6)                 774       \n",
      "                                                                 \n",
      "=================================================================\n",
      "Total params: 3,179,654\n",
      "Trainable params: 3,179,654\n",
      "Non-trainable params: 0\n",
      "_________________________________________________________________\n"
     ]
    }
   ],
   "source": [
    "model.summary()"
   ]
  },
  {
   "cell_type": "code",
   "execution_count": 19,
   "id": "7cf4d060",
   "metadata": {},
   "outputs": [],
   "source": [
    "model.compile(optimizer= tf.optimizers.Adam(), \n",
    "              loss='sparse_categorical_crossentropy',\n",
    "              metrics=['accuracy'])"
   ]
  },
  {
   "cell_type": "code",
   "execution_count": 21,
   "id": "21239af4",
   "metadata": {},
   "outputs": [
    {
     "name": "stdout",
     "output_type": "stream",
     "text": [
      "Epoch 1/15\n",
      "135/135 [==============================] - 4s 33ms/step - loss: 0.9817 - accuracy: 0.6046\n",
      "Epoch 2/15\n",
      "135/135 [==============================] - 4s 33ms/step - loss: 0.9438 - accuracy: 0.6278\n",
      "Epoch 3/15\n",
      "135/135 [==============================] - 4s 32ms/step - loss: 0.9001 - accuracy: 0.6416\n",
      "Epoch 4/15\n",
      "135/135 [==============================] - 4s 32ms/step - loss: 0.8361 - accuracy: 0.6854\n",
      "Epoch 5/15\n",
      "135/135 [==============================] - 4s 33ms/step - loss: 0.8594 - accuracy: 0.6674\n",
      "Epoch 6/15\n",
      "135/135 [==============================] - 4s 32ms/step - loss: 0.8078 - accuracy: 0.6787\n",
      "Epoch 7/15\n",
      "135/135 [==============================] - 4s 32ms/step - loss: 0.7158 - accuracy: 0.7239\n",
      "Epoch 8/15\n",
      "135/135 [==============================] - 4s 32ms/step - loss: 0.7496 - accuracy: 0.7130\n",
      "Epoch 9/15\n",
      "135/135 [==============================] - 4s 33ms/step - loss: 0.7025 - accuracy: 0.7308\n",
      "Epoch 10/15\n",
      "135/135 [==============================] - 4s 33ms/step - loss: 0.6381 - accuracy: 0.7640\n",
      "Epoch 11/15\n",
      "135/135 [==============================] - 4s 33ms/step - loss: 0.5484 - accuracy: 0.8024\n",
      "Epoch 12/15\n",
      "135/135 [==============================] - 4s 33ms/step - loss: 0.5464 - accuracy: 0.8024\n",
      "Epoch 13/15\n",
      "135/135 [==============================] - 4s 33ms/step - loss: 0.5362 - accuracy: 0.8110\n",
      "Epoch 14/15\n",
      "135/135 [==============================] - 4s 33ms/step - loss: 0.5055 - accuracy: 0.8114\n",
      "Epoch 15/15\n",
      "135/135 [==============================] - 4s 32ms/step - loss: 0.4804 - accuracy: 0.8279\n"
     ]
    },
    {
     "data": {
      "text/plain": [
       "<keras.callbacks.History at 0x1ab1493c670>"
      ]
     },
     "execution_count": 21,
     "metadata": {},
     "output_type": "execute_result"
    }
   ],
   "source": [
    "model.fit(train,labels, epochs=15)"
   ]
  },
  {
   "cell_type": "code",
   "execution_count": 22,
   "id": "c72b44e5",
   "metadata": {},
   "outputs": [],
   "source": [
    "model.save(\"D:/IBM Project/Flowers-Dataset/flowers.h5\")"
   ]
  },
  {
   "cell_type": "code",
   "execution_count": null,
   "id": "3f2f2a8b",
   "metadata": {},
   "outputs": [],
   "source": []
  }
 ],
 "metadata": {
  "kernelspec": {
   "display_name": "Python 3 (ipykernel)",
   "language": "python",
   "name": "python3"
  },
  "language_info": {
   "codemirror_mode": {
    "name": "ipython",
    "version": 3
   },
   "file_extension": ".py",
   "mimetype": "text/x-python",
   "name": "python",
   "nbconvert_exporter": "python",
   "pygments_lexer": "ipython3",
   "version": "3.9.12"
  }
 },
 "nbformat": 4,
 "nbformat_minor": 5
}
