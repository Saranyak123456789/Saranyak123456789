{
  "nbformat": 4,
  "nbformat_minor": 0,
  "metadata": {
    "colab": {
      "provenance": []
    },
    "kernelspec": {
      "name": "python3",
      "display_name": "Python 3"
    },
    "language_info": {
      "name": "python"
    }
  },
  "cells": [
    {
      "cell_type": "code",
      "source": [
        "!unzip /content/drive/MyDrive/Datasets/Flowers-Dataset.zip"
      ],
      "metadata": {
        "colab": {
          "base_uri": "https://localhost:8080/"
        },
        "id": "-Sis4y3LIdaB",
        "outputId": "1c3524db-a233-49da-a6d3-837e67884e58"
      },
      "execution_count": 28,
      "outputs": [
        {
          "output_type": "stream",
          "name": "stdout",
          "text": [
            "Archive:  /content/drive/MyDrive/Datasets/Flowers-Dataset.zip\n",
            "replace flowers/daisy/100080576_f52e8ee070_n.jpg? [y]es, [n]o, [A]ll, [N]one, [r]ename: n\n",
            "replace flowers/daisy/10140303196_b88d3d6cec.jpg? [y]es, [n]o, [A]ll, [N]one, [r]ename: "
          ]
        }
      ]
    },
    {
      "cell_type": "code",
      "source": [
        "import tensorflow as tf\n",
        "from tensorflow import keras\n",
        "\n",
        "# Helper libraries\n",
        "import matplotlib.pyplot as plt\n",
        "import numpy as np\n",
        "from os import listdir\n",
        "from os.path import join\n",
        "import cv2\n",
        "import pandas\n",
        "import os\n",
        "import random"
      ],
      "metadata": {
        "id": "cVoWlhu1MDiQ"
      },
      "execution_count": 30,
      "outputs": []
    },
    {
      "cell_type": "code",
      "source": [
        "data = '/content/flowers'\n",
        "folders = os.listdir(data)\n",
        "\n",
        "print(folders)"
      ],
      "metadata": {
        "colab": {
          "base_uri": "https://localhost:8080/"
        },
        "id": "fLC0XNtGM2E5",
        "outputId": "f5c1a08e-285c-4e28-cd0a-9b8a43c0ac85"
      },
      "execution_count": 31,
      "outputs": [
        {
          "output_type": "stream",
          "name": "stdout",
          "text": [
            "['sunflower', 'dandelion', 'tulip', 'rose', 'daisy']\n"
          ]
        }
      ]
    },
    {
      "cell_type": "code",
      "source": [
        "image_names = []\n",
        "train_labels = []\n",
        "train_images = []\n",
        "\n",
        "size = 64,64\n",
        "\n",
        "for folder in folders:\n",
        "    for file in os.listdir(os.path.join(data,folder)):\n",
        "        if file.endswith(\"jpg\"):\n",
        "            image_names.append(os.path.join(data,folder,file))\n",
        "            train_labels.append(folder)\n",
        "            img = cv2.imread(os.path.join(data,folder,file))\n",
        "            im = cv2.resize(img,size)\n",
        "            train_images.append(im)\n",
        "        else:\n",
        "            continue"
      ],
      "metadata": {
        "id": "kHFPY5oET49C"
      },
      "execution_count": 32,
      "outputs": []
    },
    {
      "cell_type": "code",
      "source": [
        "train = np.array(train_images)\n",
        "\n",
        "train.shape"
      ],
      "metadata": {
        "colab": {
          "base_uri": "https://localhost:8080/"
        },
        "id": "EtEyNILCT-TA",
        "outputId": "96968a8d-213e-4084-d406-43bd427861b5"
      },
      "execution_count": 33,
      "outputs": [
        {
          "output_type": "execute_result",
          "data": {
            "text/plain": [
              "(4317, 64, 64, 3)"
            ]
          },
          "metadata": {},
          "execution_count": 33
        }
      ]
    },
    {
      "cell_type": "code",
      "source": [
        "train = train.astype('float32') / 255.0"
      ],
      "metadata": {
        "id": "kL13RwyeUVCW"
      },
      "execution_count": 34,
      "outputs": []
    },
    {
      "cell_type": "code",
      "source": [
        "label_dummies = pandas.get_dummies(train_labels)\n",
        "\n",
        "labels =  label_dummies.values.argmax(1)"
      ],
      "metadata": {
        "id": "rMxcNIuPUX2Q"
      },
      "execution_count": 35,
      "outputs": []
    },
    {
      "cell_type": "code",
      "source": [
        "pandas.unique(train_labels)"
      ],
      "metadata": {
        "colab": {
          "base_uri": "https://localhost:8080/"
        },
        "id": "-iIFUWC3Ua9L",
        "outputId": "202d818b-303e-4e75-c569-2d35cc4be76d"
      },
      "execution_count": 36,
      "outputs": [
        {
          "output_type": "execute_result",
          "data": {
            "text/plain": [
              "array(['sunflower', 'dandelion', 'tulip', 'rose', 'daisy'], dtype=object)"
            ]
          },
          "metadata": {},
          "execution_count": 36
        }
      ]
    },
    {
      "cell_type": "code",
      "source": [
        "\n",
        "union_list = list(zip(train, labels))\n",
        "random.shuffle(union_list)\n",
        "train,labels = zip(*union_list)\n",
        "\n",
        "# Convert the shuffled list to numpy array type\n",
        "\n",
        "train = np.array(train)\n",
        "labels = np.array(labels)"
      ],
      "metadata": {
        "id": "yrK9WIcpUeiG"
      },
      "execution_count": 37,
      "outputs": []
    },
    {
      "cell_type": "code",
      "source": [
        "model = keras.Sequential([\n",
        "    keras.layers.Flatten(input_shape=(64,64,3)),\n",
        "    keras.layers.Dense(256, activation=tf.nn.relu),\n",
        "    keras.layers.Dense(128, activation=tf.nn.relu),\n",
        "    keras.layers.Dense(5, activation=tf.nn.softmax)\n",
        "])"
      ],
      "metadata": {
        "id": "57F72xU1UjHA"
      },
      "execution_count": 38,
      "outputs": []
    },
    {
      "cell_type": "code",
      "source": [
        "model.summary()"
      ],
      "metadata": {
        "colab": {
          "base_uri": "https://localhost:8080/"
        },
        "id": "3-iHPyeRV69H",
        "outputId": "3179f915-d25f-497e-e49d-4759b138c10c"
      },
      "execution_count": 39,
      "outputs": [
        {
          "output_type": "stream",
          "name": "stdout",
          "text": [
            "Model: \"sequential_1\"\n",
            "_________________________________________________________________\n",
            " Layer (type)                Output Shape              Param #   \n",
            "=================================================================\n",
            " flatten_1 (Flatten)         (None, 12288)             0         \n",
            "                                                                 \n",
            " dense_2 (Dense)             (None, 256)               3145984   \n",
            "                                                                 \n",
            " dense_3 (Dense)             (None, 128)               32896     \n",
            "                                                                 \n",
            " dense_4 (Dense)             (None, 5)                 645       \n",
            "                                                                 \n",
            "=================================================================\n",
            "Total params: 3,179,525\n",
            "Trainable params: 3,179,525\n",
            "Non-trainable params: 0\n",
            "_________________________________________________________________\n"
          ]
        }
      ]
    },
    {
      "cell_type": "code",
      "source": [
        "model.compile(optimizer= tf.optimizers.Adam(), \n",
        "              loss='sparse_categorical_crossentropy',\n",
        "              metrics=['accuracy'])"
      ],
      "metadata": {
        "id": "fHpq3oxZUmxn"
      },
      "execution_count": 40,
      "outputs": []
    },
    {
      "cell_type": "code",
      "source": [
        "model.fit(train,labels, epochs=10)"
      ],
      "metadata": {
        "colab": {
          "base_uri": "https://localhost:8080/"
        },
        "id": "sQfFoCIXUpOJ",
        "outputId": "43c0427e-4971-49fd-da8e-1c9a2c4df8fc"
      },
      "execution_count": 41,
      "outputs": [
        {
          "output_type": "stream",
          "name": "stdout",
          "text": [
            "Epoch 1/10\n",
            "135/135 [==============================] - 3s 22ms/step - loss: 1.7616 - accuracy: 0.3465\n",
            "Epoch 2/10\n",
            "135/135 [==============================] - 3s 22ms/step - loss: 1.3042 - accuracy: 0.4501\n",
            "Epoch 3/10\n",
            "135/135 [==============================] - 3s 22ms/step - loss: 1.2240 - accuracy: 0.4848\n",
            "Epoch 4/10\n",
            "135/135 [==============================] - 3s 22ms/step - loss: 1.1933 - accuracy: 0.4973\n",
            "Epoch 5/10\n",
            "135/135 [==============================] - 3s 22ms/step - loss: 1.1908 - accuracy: 0.5087\n",
            "Epoch 6/10\n",
            "135/135 [==============================] - 3s 22ms/step - loss: 1.1271 - accuracy: 0.5321\n",
            "Epoch 7/10\n",
            "135/135 [==============================] - 4s 26ms/step - loss: 1.1151 - accuracy: 0.5457\n",
            "Epoch 8/10\n",
            "135/135 [==============================] - 3s 24ms/step - loss: 1.0574 - accuracy: 0.5675\n",
            "Epoch 9/10\n",
            "135/135 [==============================] - 4s 26ms/step - loss: 1.0487 - accuracy: 0.5691\n",
            "Epoch 10/10\n",
            "135/135 [==============================] - 4s 29ms/step - loss: 1.0253 - accuracy: 0.5879\n"
          ]
        },
        {
          "output_type": "execute_result",
          "data": {
            "text/plain": [
              "<keras.callbacks.History at 0x7f01ec419d90>"
            ]
          },
          "metadata": {},
          "execution_count": 41
        }
      ]
    },
    {
      "cell_type": "code",
      "source": [
        "model.save(\"models/flowers\")"
      ],
      "metadata": {
        "id": "zGEW1dHIU8BF"
      },
      "execution_count": 42,
      "outputs": []
    },
    {
      "cell_type": "code",
      "source": [],
      "metadata": {
        "id": "vQwkUjf7V5FV"
      },
      "execution_count": 42,
      "outputs": []
    }
  ]
}