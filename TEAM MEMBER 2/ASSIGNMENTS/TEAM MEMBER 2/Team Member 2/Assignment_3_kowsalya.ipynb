{
  "cells": [
    {
      "cell_type": "code",
      "execution_count": null,
      "id": "91674a07",
      "metadata": {
        "id": "91674a07"
      },
      "outputs": [],
      "source": [
        "import tensorflow as tf\n",
        "from tensorflow import keras\n",
        "import matplotlib.pyplot as plt\n",
        "import numpy as np\n",
        "from os import listdir\n",
        "from os.path import join\n",
        "import pandas\n",
        "import cv2\n",
        "import os\n",
        "import random"
      ]
    },
    {
      "cell_type": "code",
      "execution_count": null,
      "id": "813dc371",
      "metadata": {
        "id": "813dc371",
        "outputId": "048b2d4b-a2a3-400b-ac30-aded432c468d"
      },
      "outputs": [
        {
          "name": "stdout",
          "output_type": "stream",
          "text": [
            "['daisy', 'dandelion', 'rose', 'sunflower', 'tulip']\n"
          ]
        }
      ],
      "source": [
        "data_mem2 = 'E:/ibm assignments/flowers'\n",
        "folders_mem2 = os.listdir(data_mem2)\n",
        "\n",
        "print(folders_mem2)"
      ]
    },
    {
      "cell_type": "code",
      "execution_count": null,
      "id": "9f45d6f5",
      "metadata": {
        "id": "9f45d6f5"
      },
      "outputs": [],
      "source": [
        "image_names = []\n",
        "train_labels = []\n",
        "train_images = []\n",
        "\n",
        "size = 64,64\n",
        "\n",
        "for folder in folders_mem2:\n",
        "    for file in os.listdir(os.path.join(data_mem2,folder)):\n",
        "        if file.endswith(\"jpg\"):\n",
        "            image_names.append(os.path.join(data_mem2,folder,file))\n",
        "            train_labels.append(folder)\n",
        "            img = cv2.imread(os.path.join(data_mem2,folder,file))\n",
        "            im = cv2.resize(img,size)\n",
        "            train_images.append(im)\n",
        "        else:\n",
        "            continue"
      ]
    },
    {
      "cell_type": "code",
      "execution_count": null,
      "id": "43d3f09c",
      "metadata": {
        "id": "43d3f09c",
        "outputId": "70c191a3-d7ca-4840-eba0-d746bb11426f"
      },
      "outputs": [
        {
          "data": {
            "text/plain": [
              "(4317, 64, 64, 3)"
            ]
          },
          "execution_count": 5,
          "metadata": {},
          "output_type": "execute_result"
        }
      ],
      "source": [
        "train = np.array(train_images)\n",
        "\n",
        "train.shape"
      ]
    },
    {
      "cell_type": "code",
      "execution_count": null,
      "id": "33469615",
      "metadata": {
        "id": "33469615"
      },
      "outputs": [],
      "source": [
        "train = train.astype('float32') / 255.0"
      ]
    },
    {
      "cell_type": "code",
      "execution_count": null,
      "id": "25df3b94",
      "metadata": {
        "id": "25df3b94"
      },
      "outputs": [],
      "source": [
        "label_dummies = pandas.get_dummies(train_labels)\n",
        "\n",
        "labels =  label_dummies.values.argmax(1)"
      ]
    },
    {
      "cell_type": "code",
      "execution_count": null,
      "id": "d2aa5b25",
      "metadata": {
        "id": "d2aa5b25",
        "outputId": "176ac5e9-bf78-4cc4-ceab-b0ef41333ee8"
      },
      "outputs": [
        {
          "data": {
            "text/plain": [
              "array(['daisy', 'dandelion', 'rose', 'sunflower', 'tulip'], dtype=object)"
            ]
          },
          "execution_count": 8,
          "metadata": {},
          "output_type": "execute_result"
        }
      ],
      "source": [
        "pandas.unique(train_labels)"
      ]
    },
    {
      "cell_type": "code",
      "execution_count": null,
      "id": "38209f03",
      "metadata": {
        "id": "38209f03"
      },
      "outputs": [],
      "source": [
        "\n",
        "union_list = list(zip(train, labels))\n",
        "random.shuffle(union_list)\n",
        "train,labels = zip(*union_list)\n",
        "\n",
        "# Convert the shuffled list to numpy array type\n",
        "\n",
        "train = np.array(train)\n",
        "labels = np.array(labels)"
      ]
    },
    {
      "cell_type": "code",
      "execution_count": null,
      "id": "02b6ce47",
      "metadata": {
        "id": "02b6ce47"
      },
      "outputs": [],
      "source": [
        "model = keras.Sequential([\n",
        "    keras.layers.Flatten(input_shape=(64,64,3)),\n",
        "    keras.layers.Dense(256, activation=tf.nn.relu),\n",
        "    keras.layers.Dense(128, activation=tf.nn.relu),\n",
        "    keras.layers.Dense(5, activation=tf.nn.softmax)\n",
        "])"
      ]
    },
    {
      "cell_type": "code",
      "execution_count": null,
      "id": "a3af5a43",
      "metadata": {
        "id": "a3af5a43",
        "outputId": "ff2c113e-216b-439e-fa50-7bf804729280"
      },
      "outputs": [
        {
          "name": "stdout",
          "output_type": "stream",
          "text": [
            "Model: \"sequential\"\n",
            "_________________________________________________________________\n",
            " Layer (type)                Output Shape              Param #   \n",
            "=================================================================\n",
            " flatten (Flatten)           (None, 12288)             0         \n",
            "                                                                 \n",
            " dense (Dense)               (None, 256)               3145984   \n",
            "                                                                 \n",
            " dense_1 (Dense)             (None, 128)               32896     \n",
            "                                                                 \n",
            " dense_2 (Dense)             (None, 5)                 645       \n",
            "                                                                 \n",
            "=================================================================\n",
            "Total params: 3,179,525\n",
            "Trainable params: 3,179,525\n",
            "Non-trainable params: 0\n",
            "_________________________________________________________________\n"
          ]
        }
      ],
      "source": [
        "model.summary()"
      ]
    },
    {
      "cell_type": "code",
      "execution_count": null,
      "id": "7cf4d060",
      "metadata": {
        "id": "7cf4d060"
      },
      "outputs": [],
      "source": [
        "model.compile(optimizer= tf.optimizers.Adam(), \n",
        "              loss='sparse_categorical_crossentropy',\n",
        "              metrics=['accuracy'])"
      ]
    },
    {
      "cell_type": "code",
      "execution_count": null,
      "id": "21239af4",
      "metadata": {
        "id": "21239af4",
        "outputId": "bc48e9d7-96d3-449f-e71f-a71c18a269d6"
      },
      "outputs": [
        {
          "name": "stdout",
          "output_type": "stream",
          "text": [
            "Epoch 1/11\n",
            "135/135 [==============================] - 4s 28ms/step - loss: 1.7476 - accuracy: 0.3472\n",
            "Epoch 2/11\n",
            "135/135 [==============================] - 4s 29ms/step - loss: 1.2844 - accuracy: 0.4461\n",
            "Epoch 3/11\n",
            "135/135 [==============================] - 4s 28ms/step - loss: 1.2456 - accuracy: 0.4675\n",
            "Epoch 4/11\n",
            "135/135 [==============================] - 4s 27ms/step - loss: 1.1982 - accuracy: 0.4950\n",
            "Epoch 5/11\n",
            "135/135 [==============================] - 4s 27ms/step - loss: 1.1410 - accuracy: 0.5161\n",
            "Epoch 6/11\n",
            "135/135 [==============================] - 4s 28ms/step - loss: 1.1041 - accuracy: 0.5441\n",
            "Epoch 7/11\n",
            "135/135 [==============================] - 4s 28ms/step - loss: 1.0860 - accuracy: 0.5546\n",
            "Epoch 8/11\n",
            "135/135 [==============================] - 4s 27ms/step - loss: 1.0744 - accuracy: 0.5599\n",
            "Epoch 9/11\n",
            "135/135 [==============================] - 4s 27ms/step - loss: 1.0278 - accuracy: 0.5823\n",
            "Epoch 10/11\n",
            "135/135 [==============================] - 4s 29ms/step - loss: 0.9727 - accuracy: 0.6053\n",
            "Epoch 11/11\n",
            "135/135 [==============================] - 4s 28ms/step - loss: 0.9515 - accuracy: 0.6196\n"
          ]
        },
        {
          "data": {
            "text/plain": [
              "<keras.callbacks.History at 0x2bb8ce20d90>"
            ]
          },
          "execution_count": 13,
          "metadata": {},
          "output_type": "execute_result"
        }
      ],
      "source": [
        "model.fit(train,labels, epochs=11)"
      ]
    },
    {
      "cell_type": "code",
      "execution_count": null,
      "id": "c72b44e5",
      "metadata": {
        "id": "c72b44e5"
      },
      "outputs": [],
      "source": [
        "model.save(\"E:/ibm assignments/flowers_subash.h5\")"
      ]
    },
    {
      "cell_type": "code",
      "execution_count": null,
      "id": "3f2f2a8b",
      "metadata": {
        "id": "3f2f2a8b"
      },
      "outputs": [],
      "source": []
    }
  ],
  "metadata": {
    "kernelspec": {
      "display_name": "Python 3 (ipykernel)",
      "language": "python",
      "name": "python3"
    },
    "language_info": {
      "codemirror_mode": {
        "name": "ipython",
        "version": 3
      },
      "file_extension": ".py",
      "mimetype": "text/x-python",
      "name": "python",
      "nbconvert_exporter": "python",
      "pygments_lexer": "ipython3",
      "version": "3.9.12"
    },
    "colab": {
      "provenance": [],
      "collapsed_sections": []
    }
  },
  "nbformat": 4,
  "nbformat_minor": 5
}